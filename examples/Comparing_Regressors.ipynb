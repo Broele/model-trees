{
 "cells": [
  {
   "cell_type": "markdown",
   "metadata": {},
   "source": [
    "# Comparing Regressors\n",
    "This notebook compares multiple regression methods on multiple datasets and evaluates them in terms of the $r^2$-measure."
   ]
  },
  {
   "cell_type": "code",
   "execution_count": 1,
   "metadata": {},
   "outputs": [],
   "source": [
    "from sklearn.datasets import fetch_california_housing\n",
    "from sklearn.metrics import r2_score, make_scorer\n",
    "from sklearn.model_selection import cross_val_score, KFold\n",
    "from sklearn.linear_model import LinearRegression\n",
    "from sklearn.tree import DecisionTreeRegressor\n",
    "\n",
    "try:\n",
    "    # Model Trees are installed / on the path\n",
    "    from modeltrees import ModelTreeRegressor\n",
    "except:\n",
    "    # Assume project structure\n",
    "    import sys\n",
    "    sys.path.append(\"..\")\n",
    "    from modeltrees import ModelTreeRegressor\n",
    "\n",
    "import pandas as pd\n",
    "import numpy as np"
   ]
  },
  {
   "cell_type": "markdown",
   "metadata": {},
   "source": [
    "## 1. Datasets\n",
    "This gives a generator that iterates over all datasets.  \n",
    "Each dataset is a triple consisting of \n",
    "- Features Matrix `X`, \n",
    "- Target Vector `y`, and \n",
    "- Name of the Dataset\n",
    "\n",
    "See [Section 3.3](#characteristics) for a list of dataset characteristics"
   ]
  },
  {
   "cell_type": "code",
   "execution_count": 2,
   "metadata": {},
   "outputs": [],
   "source": [
    "def get_datasets():\n",
    "    # Using generators instead of lists for memory efficiency reasons.\n",
    "    \n",
    "    # Dataset 1: California Housing\n",
    "    data = fetch_california_housing()\n",
    "    X = data.data\n",
    "    y = data.target\n",
    "    \n",
    "    yield (X, y, \"Cal. Housing\")"
   ]
  },
  {
   "cell_type": "markdown",
   "metadata": {},
   "source": [
    "## 2. Regressors\n",
    "We are comparing the following regressors:\n",
    "- Linear Regression `Lin. Reg.`\n",
    "- Decision Trees `DT` with maximal depth 3 and 6 \n",
    "- Model Trees with maximal depth 1 and 3. We compare two split criteria:\n",
    "    - Plain Gradient `MT-G`\n",
    "    - Gradient with renormalization `MT-GR`"
   ]
  },
  {
   "cell_type": "code",
   "execution_count": 3,
   "metadata": {},
   "outputs": [],
   "source": [
    "def get_regressors():\n",
    "    return [\n",
    "        (LinearRegression(normalize = True), \"Lin. Reg.\"),\n",
    "        (DecisionTreeRegressor(max_depth=3), \"DT[D=3]\"),\n",
    "        (DecisionTreeRegressor(max_depth=6), \"DT[D=6]\"),\n",
    "        (ModelTreeRegressor(max_depth=1), \"MT-G[D=1]\"),\n",
    "        (ModelTreeRegressor(max_depth=3), \"MT-G[D=3]\"),\n",
    "        (ModelTreeRegressor(max_depth=1, criterion=\"gradient-renorm-z\"), \"MT-GR[D=1]\"),\n",
    "        (ModelTreeRegressor(max_depth=3, criterion=\"gradient-renorm-z\"), \"MT-GR[D=3]\")\n",
    "    ]"
   ]
  },
  {
   "cell_type": "markdown",
   "metadata": {},
   "source": [
    "## 3. Comparison\n",
    "### 3.1 Parameters"
   ]
  },
  {
   "cell_type": "code",
   "execution_count": 4,
   "metadata": {},
   "outputs": [],
   "source": [
    "# Cross Validation: Number of Folds\n",
    "n_fold = 5\n",
    "\n",
    "seed = 42   # We suggest to try other values to get a feeling for the stability"
   ]
  },
  {
   "cell_type": "markdown",
   "metadata": {},
   "source": [
    "### 3.2 Evaluation\n",
    "Iterating over datasets and regressors"
   ]
  },
  {
   "cell_type": "code",
   "execution_count": 5,
   "metadata": {},
   "outputs": [],
   "source": [
    "# Create a DataFrame for results (see 3.4)\n",
    "results = pd.DataFrame()\n",
    "\n",
    "# Create a DataFrame for the Dataset Characteristics (see 3.3)\n",
    "ds_characteristics = pd.DataFrame(columns=(\"#Samples\", \"#Features\"))\n",
    "\n",
    "# Create a scorer function\n",
    "scorer = make_scorer(r2_score)\n",
    "\n",
    "# Iterate over Datasets\n",
    "for X, y, ds_name in get_datasets():\n",
    "    \n",
    "    # Store dataset  characteristics\n",
    "    n_samples, n_features = X.shape\n",
    "    ds_characteristics.loc[ds_name, \"#Samples\"] = n_samples\n",
    "    ds_characteristics.loc[ds_name, \"#Features\"] = n_features\n",
    "    \n",
    "    # Iterate over Regressors\n",
    "    for model, m_name in get_regressors():\n",
    "        # Use the same seed for comparing different regressors\n",
    "        kfold = KFold(n_splits=n_fold, shuffle=True, random_state=seed)\n",
    "        \n",
    "        scores = cross_val_score(model, X, y, scoring=scorer, cv=kfold)\n",
    "        \n",
    "        mean_score = np.mean(scores)\n",
    "        std_score = np.std(scores)\n",
    "        \n",
    "        cell_text = f\"{mean_score*100:.2f} ± {std_score*100:.2f}\"\n",
    "        results.loc[ds_name, m_name] = cell_text"
   ]
  },
  {
   "cell_type": "markdown",
   "metadata": {},
   "source": [
    "### 3.3 Dataset Characteristics <a id='characteristics'></a>"
   ]
  },
  {
   "cell_type": "code",
   "execution_count": 6,
   "metadata": {},
   "outputs": [
    {
     "data": {
      "text/html": [
       "<div>\n",
       "<style scoped>\n",
       "    .dataframe tbody tr th:only-of-type {\n",
       "        vertical-align: middle;\n",
       "    }\n",
       "\n",
       "    .dataframe tbody tr th {\n",
       "        vertical-align: top;\n",
       "    }\n",
       "\n",
       "    .dataframe thead th {\n",
       "        text-align: right;\n",
       "    }\n",
       "</style>\n",
       "<table border=\"1\" class=\"dataframe\">\n",
       "  <thead>\n",
       "    <tr style=\"text-align: right;\">\n",
       "      <th></th>\n",
       "      <th>#Samples</th>\n",
       "      <th>#Features</th>\n",
       "    </tr>\n",
       "  </thead>\n",
       "  <tbody>\n",
       "    <tr>\n",
       "      <th>Cal. Housing</th>\n",
       "      <td>20640</td>\n",
       "      <td>8</td>\n",
       "    </tr>\n",
       "  </tbody>\n",
       "</table>\n",
       "</div>"
      ],
      "text/plain": [
       "              #Samples  #Features\n",
       "Cal. Housing     20640          8"
      ]
     },
     "execution_count": 6,
     "metadata": {},
     "output_type": "execute_result"
    }
   ],
   "source": [
    "ds_characteristics[\"#Samples\"] = ds_characteristics[\"#Samples\"].astype(dtype=np.int)\n",
    "ds_characteristics[\"#Features\"] = ds_characteristics[\"#Features\"].astype(dtype=np.int)\n",
    "ds_characteristics"
   ]
  },
  {
   "cell_type": "markdown",
   "metadata": {},
   "source": [
    "### 3.4 Results\n",
    "The regressors are evaluated in terms of the $r^2$ metric.  \n",
    "The following results are given in percentage. The uncertainty is given as standard deviation of the $r^2$ score."
   ]
  },
  {
   "cell_type": "code",
   "execution_count": 7,
   "metadata": {},
   "outputs": [
    {
     "data": {
      "text/html": [
       "<div>\n",
       "<style scoped>\n",
       "    .dataframe tbody tr th:only-of-type {\n",
       "        vertical-align: middle;\n",
       "    }\n",
       "\n",
       "    .dataframe tbody tr th {\n",
       "        vertical-align: top;\n",
       "    }\n",
       "\n",
       "    .dataframe thead th {\n",
       "        text-align: right;\n",
       "    }\n",
       "</style>\n",
       "<table border=\"1\" class=\"dataframe\">\n",
       "  <thead>\n",
       "    <tr style=\"text-align: right;\">\n",
       "      <th></th>\n",
       "      <th>Lin. Reg.</th>\n",
       "      <th>DT[D=3]</th>\n",
       "      <th>DT[D=6]</th>\n",
       "      <th>MT-G[D=1]</th>\n",
       "      <th>MT-G[D=3]</th>\n",
       "      <th>MT-GR[D=1]</th>\n",
       "      <th>MT-GR[D=3]</th>\n",
       "    </tr>\n",
       "  </thead>\n",
       "  <tbody>\n",
       "    <tr>\n",
       "      <th>Cal. Housing</th>\n",
       "      <td>60.14 ± 1.70</td>\n",
       "      <td>52.70 ± 1.46</td>\n",
       "      <td>64.16 ± 1.29</td>\n",
       "      <td>67.09 ± 1.57</td>\n",
       "      <td>68.32 ± 1.68</td>\n",
       "      <td>67.16 ± 1.50</td>\n",
       "      <td>72.24 ± 1.05</td>\n",
       "    </tr>\n",
       "  </tbody>\n",
       "</table>\n",
       "</div>"
      ],
      "text/plain": [
       "                 Lin. Reg.       DT[D=3]       DT[D=6]     MT-G[D=1]  \\\n",
       "Cal. Housing  60.14 ± 1.70  52.70 ± 1.46  64.16 ± 1.29  67.09 ± 1.57   \n",
       "\n",
       "                 MT-G[D=3]    MT-GR[D=1]    MT-GR[D=3]  \n",
       "Cal. Housing  68.32 ± 1.68  67.16 ± 1.50  72.24 ± 1.05  "
      ]
     },
     "execution_count": 7,
     "metadata": {},
     "output_type": "execute_result"
    }
   ],
   "source": [
    "results"
   ]
  }
 ],
 "metadata": {
  "kernelspec": {
   "display_name": "Python 3",
   "language": "python",
   "name": "python3"
  },
  "language_info": {
   "codemirror_mode": {
    "name": "ipython",
    "version": 3
   },
   "file_extension": ".py",
   "mimetype": "text/x-python",
   "name": "python",
   "nbconvert_exporter": "python",
   "pygments_lexer": "ipython3",
   "version": "3.7.3"
  }
 },
 "nbformat": 4,
 "nbformat_minor": 2
}
